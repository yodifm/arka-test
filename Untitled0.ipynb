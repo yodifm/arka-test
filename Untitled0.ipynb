{
  "nbformat": 4,
  "nbformat_minor": 0,
  "metadata": {
    "colab": {
      "name": "Untitled0.ipynb",
      "provenance": [],
      "collapsed_sections": []
    },
    "kernelspec": {
      "name": "python3",
      "display_name": "Python 3"
    }
  },
  "cells": [
    {
      "cell_type": "markdown",
      "metadata": {
        "id": "u5GkHKOBu14b",
        "colab_type": "text"
      },
      "source": [
        "Nomor 1 : "
      ]
    },
    {
      "cell_type": "code",
      "metadata": {
        "id": "oXZFH2Qvuhue",
        "colab_type": "code",
        "colab": {}
      },
      "source": [
        "\n",
        "def triangle(n):\n",
        "  if (n != 0) or ( char == a-z):\n",
        "     for i in range(0,n):\n",
        "         for j in range(0, i+1):\n",
        "              print(\"# \" , end=\"\")\n",
        "         print(\"\\r\")\n",
        "  else:\n",
        "     print(\"Paramemeter harus angka dan positif!\")\n",
        "\n",
        "\n",
        "triangle(5)\n",
        "  "
      ],
      "execution_count": 0,
      "outputs": []
    },
    {
      "cell_type": "code",
      "metadata": {
        "id": "maSkV6Sp3ygM",
        "colab_type": "code",
        "colab": {}
      },
      "source": [
        ""
      ],
      "execution_count": 0,
      "outputs": []
    },
    {
      "cell_type": "markdown",
      "metadata": {
        "id": "nvHMlS_twBLP",
        "colab_type": "text"
      },
      "source": [
        "No 2"
      ]
    },
    {
      "cell_type": "code",
      "metadata": {
        "id": "NO0exN45wAwQ",
        "colab_type": "code",
        "outputId": "2bf04466-8a1e-4c54-b090-f691aec91787",
        "colab": {
          "base_uri": "https://localhost:8080/",
          "height": 102
        }
      },
      "source": [
        "\n",
        "string=input(\"Enter string:\")\n",
        "count1=0\n",
        "count2=0\n",
        "for i in string:\n",
        "      if(i.isdigit()):\n",
        "            count1=count1+1\n",
        "print(\"The number of digits is:\")\n",
        "print(count1)\n",
        "print(\"The number of Sentence is:\")\n",
        "count2 = string.split()\n",
        "print(len(count2))"
      ],
      "execution_count": 0,
      "outputs": [
        {
          "output_type": "stream",
          "text": [
            "Enter string:sd 3 g 1 g\n",
            "The number of digits is:\n",
            "2\n",
            "The number of Sentence is:\n",
            "5\n"
          ],
          "name": "stdout"
        }
      ]
    },
    {
      "cell_type": "markdown",
      "metadata": {
        "id": "lP8Ii751fmI2",
        "colab_type": "text"
      },
      "source": [
        "No 3"
      ]
    },
    {
      "cell_type": "code",
      "metadata": {
        "id": "l57PSDj3Sv_U",
        "colab_type": "code",
        "outputId": "634982a7-8cd1-4206-8be8-9df675472eae",
        "colab": {
          "base_uri": "https://localhost:8080/",
          "height": 85
        }
      },
      "source": [
        "n = int(input(\"enter\"))\n",
        "for i in range (n):\n",
        "  count = 0\n",
        "  for j in range (n-i-1):\n",
        "    print(\" \",end = \"\")\n",
        "  for j in range (i+1):\n",
        "      print(\"*\", end = \"\")\n",
        "      if count < i:\n",
        "        print(\"A\",end = \"\")\n",
        "        count = count+1\n",
        "  print()"
      ],
      "execution_count": 0,
      "outputs": [
        {
          "output_type": "stream",
          "text": [
            "enter3\n",
            "  *\n",
            " *A*\n",
            "*A*A*\n"
          ],
          "name": "stdout"
        }
      ]
    },
    {
      "cell_type": "code",
      "metadata": {
        "id": "GNo2io6Zfo8C",
        "colab_type": "code",
        "colab": {}
      },
      "source": [
        "string1 = \"hari apa saja saya bisa!\"\n",
        "print(string1.count('a'))\n",
        "print(string1.count('s'))\n",
        "print(string1.count('i'))"
      ],
      "execution_count": 0,
      "outputs": []
    },
    {
      "cell_type": "code",
      "metadata": {
        "id": "yfvzPXl9hwdg",
        "colab_type": "code",
        "colab": {}
      },
      "source": [
        "string1 = \"cepat kerjakan!!!\"\n",
        "print(string1.count('e'))\n",
        "print(string1.count('a'))\n",
        "print(string1.count('k'))\n",
        "print(string1.count('!'))"
      ],
      "execution_count": 0,
      "outputs": []
    },
    {
      "cell_type": "code",
      "metadata": {
        "id": "XLnzJDfYiAF0",
        "colab_type": "code",
        "outputId": "ba56719e-027a-4ade-fb7d-db7f802e2c1e",
        "colab": {
          "base_uri": "https://localhost:8080/",
          "height": 34
        }
      },
      "source": [
        "string1 = \"adobe\"\n",
        "print(string1.count('k'))"
      ],
      "execution_count": 0,
      "outputs": [
        {
          "output_type": "stream",
          "text": [
            "0\n"
          ],
          "name": "stdout"
        }
      ]
    }
  ]
}